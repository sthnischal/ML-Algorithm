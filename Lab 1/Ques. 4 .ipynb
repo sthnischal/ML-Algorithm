{
 "cells": [
  {
   "cell_type": "code",
   "execution_count": 1,
   "metadata": {},
   "outputs": [],
   "source": [
    "import pandas as pd\n",
    "import matplotlib.pyplot as plt\n",
    "from matplotlib import style\n",
    "%matplotlib inline\n",
    "import numpy as np\n",
    "import csv"
   ]
  },
  {
   "cell_type": "code",
   "execution_count": 2,
   "metadata": {},
   "outputs": [
    {
     "data": {
      "text/html": [
       "<div>\n",
       "<style scoped>\n",
       "    .dataframe tbody tr th:only-of-type {\n",
       "        vertical-align: middle;\n",
       "    }\n",
       "\n",
       "    .dataframe tbody tr th {\n",
       "        vertical-align: top;\n",
       "    }\n",
       "\n",
       "    .dataframe thead th {\n",
       "        text-align: right;\n",
       "    }\n",
       "</style>\n",
       "<table border=\"1\" class=\"dataframe\">\n",
       "  <thead>\n",
       "    <tr style=\"text-align: right;\">\n",
       "      <th></th>\n",
       "      <th>x1</th>\n",
       "      <th>x2</th>\n",
       "      <th>y</th>\n",
       "    </tr>\n",
       "  </thead>\n",
       "  <tbody>\n",
       "    <tr>\n",
       "      <td>0</td>\n",
       "      <td>4.5192</td>\n",
       "      <td>2.6487</td>\n",
       "      <td>1.0</td>\n",
       "    </tr>\n",
       "    <tr>\n",
       "      <td>1</td>\n",
       "      <td>2.4443</td>\n",
       "      <td>1.5438</td>\n",
       "      <td>1.0</td>\n",
       "    </tr>\n",
       "    <tr>\n",
       "      <td>2</td>\n",
       "      <td>4.2409</td>\n",
       "      <td>1.8990</td>\n",
       "      <td>1.0</td>\n",
       "    </tr>\n",
       "    <tr>\n",
       "      <td>3</td>\n",
       "      <td>5.8097</td>\n",
       "      <td>2.4711</td>\n",
       "      <td>1.0</td>\n",
       "    </tr>\n",
       "    <tr>\n",
       "      <td>4</td>\n",
       "      <td>6.4423</td>\n",
       "      <td>3.3590</td>\n",
       "      <td>1.0</td>\n",
       "    </tr>\n",
       "  </tbody>\n",
       "</table>\n",
       "</div>"
      ],
      "text/plain": [
       "       x1      x2    y\n",
       "0  4.5192  2.6487  1.0\n",
       "1  2.4443  1.5438  1.0\n",
       "2  4.2409  1.8990  1.0\n",
       "3  5.8097  2.4711  1.0\n",
       "4  6.4423  3.3590  1.0"
      ]
     },
     "execution_count": 2,
     "metadata": {},
     "output_type": "execute_result"
    }
   ],
   "source": [
    "#read CSV data\n",
    "data = pd.read_csv('Logisticdataset.csv', skipinitialspace= True, quoting= csv.QUOTE_ALL)\n",
    "#print(data)\n",
    "data.head()"
   ]
  },
  {
   "cell_type": "code",
   "execution_count": 3,
   "metadata": {},
   "outputs": [],
   "source": [
    "# Data Preparation \n",
    "X1 = data['x1'].values\n",
    "X2 = data['x2'].values\n",
    "X=np.array([np.ones(len(X1)), X1, X2])\n",
    "theta = np.zeros(3)\n",
    "Y = np.array(data['y'].values)\n",
    "alpha = 0.0001"
   ]
  },
  {
   "cell_type": "code",
   "execution_count": 4,
   "metadata": {},
   "outputs": [],
   "source": [
    "# Define Cost function\n",
    "def costFunction(X, Y, theta):\n",
    "    return np.sum((X.T.dot(theta) - Y) ** 2)/(2 * len(Y))"
   ]
  },
  {
   "cell_type": "code",
   "execution_count": 5,
   "metadata": {},
   "outputs": [],
   "source": [
    "# sigmoid function\n",
    "def sigmoid(x):\n",
    "    return 1 / (1 + np.exp(-x))\n",
    "\n",
    "\n",
    "def LogisticRegression(X,Y,theta):\n",
    "    cost_iter = []\n",
    "    for i in range(1000):\n",
    "        prediction = sigmoid(X.T.dot(theta))    # Prediction\n",
    "        error = prediction - Y                  # Error \n",
    "        gradient = X.dot(error) / len(Y)         # Gradient\n",
    "        theta = theta - alpha * gradient         # Changing Values of theta using Gradient\n",
    "        cost_iter.append(costFunction(X, Y, theta))  # New Cost Value\n",
    "    return theta, cost_iter"
   ]
  },
  {
   "cell_type": "code",
   "execution_count": 6,
   "metadata": {},
   "outputs": [
    {
     "name": "stdout",
     "output_type": "stream",
     "text": [
      "Theta ϴ0: 0.0010031724400287835\n",
      "Theta ϴ1: 0.04406544924478623\n",
      "Theta ϴ2: -0.060366219546358894\n"
     ]
    }
   ],
   "source": [
    "\n",
    "\n",
    "#values of ϴ1,ϴ2,ϴ3 \n",
    "theta, cost_history = LogisticRegression(X, Y, theta)\n",
    "print(\"Theta ϴ0: \" + str(theta[0]))\n",
    "print(\"Theta ϴ1: \" + str(theta[1]))\n",
    "print(\"Theta ϴ2: \" + str(theta[2]))\n",
    "\n"
   ]
  },
  {
   "cell_type": "code",
   "execution_count": null,
   "metadata": {},
   "outputs": [],
   "source": []
  }
 ],
 "metadata": {
  "kernelspec": {
   "display_name": "Python 3",
   "language": "python",
   "name": "python3"
  },
  "language_info": {
   "codemirror_mode": {
    "name": "ipython",
    "version": 3
   },
   "file_extension": ".py",
   "mimetype": "text/x-python",
   "name": "python",
   "nbconvert_exporter": "python",
   "pygments_lexer": "ipython3",
   "version": "3.7.4"
  }
 },
 "nbformat": 4,
 "nbformat_minor": 2
}
